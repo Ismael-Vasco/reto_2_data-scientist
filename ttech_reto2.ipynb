{
  "nbformat": 4,
  "nbformat_minor": 0,
  "metadata": {
    "colab": {
      "provenance": [],
      "include_colab_link": true
    },
    "kernelspec": {
      "name": "python3",
      "display_name": "Python 3"
    },
    "language_info": {
      "name": "python"
    }
  },
  "cells": [
    {
      "cell_type": "markdown",
      "metadata": {
        "id": "view-in-github",
        "colab_type": "text"
      },
      "source": [
        "<a href=\"https://colab.research.google.com/github/Ismael-Vasco/reto_2_data-scientist/blob/main/ttech_reto2.ipynb\" target=\"_parent\"><img src=\"https://colab.research.google.com/assets/colab-badge.svg\" alt=\"Open In Colab\"/></a>"
      ]
    },
    {
      "cell_type": "markdown",
      "source": [
        "# Reto 2\n",
        "## Preparativos iniciales:\n",
        "* Los estudiantes deben asegurarse de tener acceso a los datos y las bibliotecas\n",
        "necesarias instaladas.\n",
        "* Utilizarán un entorno de desarrollo adecuado (Jupyter Notebook, Google Colab, etc.)\n",
        "Preparación:\n",
        "* Dataset: El conjunto de datos a utilizar puede ser el mismo de la misión número 1\n",
        "\n",
        "## Preparación:\n",
        "* Dataset: El conjunto de datos a utilizar puede ser el mismo de la misión número 1"
      ],
      "metadata": {
        "id": "tg0nfyrEEEj8"
      }
    },
    {
      "cell_type": "code",
      "source": [
        "import pandas as pd\n",
        "import numpy as np\n",
        "import matplotlib.pyplot as plt\n",
        "import seaborn as sns\n",
        "from sklearn.model_selection import train_test_split\n",
        "from sklearn.preprocessing import StandardScaler"
      ],
      "metadata": {
        "id": "oIt2eSeUNrvG"
      },
      "execution_count": null,
      "outputs": []
    },
    {
      "cell_type": "code",
      "source": [],
      "metadata": {
        "id": "XyCTE7t_rz46"
      },
      "execution_count": null,
      "outputs": []
    },
    {
      "cell_type": "markdown",
      "source": [
        "# Preparación\n",
        "\n",
        "Paso 1: División del Conjunto de Datos\n",
        "* Objetivo: Dividir el conjunto de datos en conjuntos de entrenamiento y prueba.\n",
        " - Instrucciones:\n",
        " - Utilizarán train_test_split de sklearn para dividir los datos.\n",
        " - Establecerán una proporción de, por ejemplo, 80% para entrenamiento y\n",
        "20% para prueba.\n",
        " - Se asegurarán de incluir la variable objetivo.\n",
        " - Utilizarán validación cruzada (cross_val_score de sklearn) para\n",
        "una evaluación más robusta del modelo. Explicarán cómo la validación\n",
        "cruzada puede ayudar a evaluar la estabilidad y la generalización del\n",
        "modelo."
      ],
      "metadata": {
        "id": "AdX8yPzbEWCr"
      }
    },
    {
      "cell_type": "code",
      "source": [],
      "metadata": {
        "id": "5aCfDUNZNsmb"
      },
      "execution_count": null,
      "outputs": []
    },
    {
      "cell_type": "markdown",
      "source": [
        "Paso 2: Preprocesamiento de Datos\n",
        "* Objetivo: Estandarizar o normalizar las características.\n",
        "*  Instrucciones:\n",
        " - Usarán StandardScaler de sklearn para estandarizar los datos.\n",
        " - Aplicarán el escalador solo a los datos de entrenamiento y luego\n",
        "transformarán los datos de prueba."
      ],
      "metadata": {
        "id": "_X5xMZXXFTAb"
      }
    },
    {
      "cell_type": "code",
      "source": [],
      "metadata": {
        "id": "HpdI7UCGNtsc"
      },
      "execution_count": null,
      "outputs": []
    },
    {
      "cell_type": "markdown",
      "source": [
        "Paso 3: Implementación de Múltiples Modelos\n",
        "* Objetivo: Entrenar varios modelos de Machine Learning y compararlos.\n",
        "* Instrucciones:\n",
        " - Seleccionarán al menos tres modelos diferentes, por ejemplo: Regresión\n",
        "Logística, Árbol de Decisión y SVM.\n",
        " - Entrenarán cada modelo usando los datos de entrenamiento.\n",
        " - Realizarán predicciones con los datos de prueba."
      ],
      "metadata": {
        "id": "8bSIeNt0Feba"
      }
    },
    {
      "cell_type": "code",
      "source": [],
      "metadata": {
        "id": "eWQfMYaSNuRW"
      },
      "execution_count": null,
      "outputs": []
    },
    {
      "cell_type": "markdown",
      "source": [
        "Paso 4: Evaluación de los Modelos\n",
        "* Objetivo: Evaluar y comparar el rendimiento de los modelos.\n",
        "* Instrucciones:\n",
        " - Utilizarán métricas como precisión, recall, F1-score y AUC-ROC.\n",
        " - Crearán una tabla comparativa para visualizar el rendimiento de cada\n",
        "modelo."
      ],
      "metadata": {
        "id": "k7ANP4VKFtqe"
      }
    },
    {
      "cell_type": "code",
      "source": [],
      "metadata": {
        "id": "lY-bRexlNvHy"
      },
      "execution_count": null,
      "outputs": []
    },
    {
      "cell_type": "markdown",
      "source": [
        "Paso 5: Interpretación de Resultados\n",
        "* Objetivo: Analizar y discutir los resultados obtenidos.\n",
        "* Instrucciones:\n",
        " - Interpretarán las métricas de rendimiento y discutirán posibles razones para\n",
        "las diferencias entre los modelos.\n",
        "Considerarán la importancia de las características en los modelos\n",
        "entrenados y cómo podrían influir en las predicciones.\n",
        " - Reflexionarán sobre posibles mejoras futuras y pasos adicionales que\n",
        "podrían tomarse."
      ],
      "metadata": {
        "id": "lMD0YdQLFxbk"
      }
    },
    {
      "cell_type": "code",
      "source": [],
      "metadata": {
        "id": "WCX2KrXsNvsx"
      },
      "execution_count": null,
      "outputs": []
    },
    {
      "cell_type": "markdown",
      "source": [
        "Paso 6: Documentación y Presentación\n",
        "* Objetivo: Documentar el proceso y los resultados.\n",
        "* Instrucciones:\n",
        " - Prepararán un video explicando el paso a paso del proceso, destacando los\n",
        "puntos clave y las lecciones aprendidas.\n",
        " - El video debe explicar claramente cada paso del proceso, desde la división\n",
        "de los datos hasta la interpretación de los resultados, haciendo\n",
        "especialmente si el desarrollo del modelo soluciona el problema macro por\n",
        "el cual fue creado."
      ],
      "metadata": {
        "id": "dAtc80mCF70e"
      }
    },
    {
      "cell_type": "code",
      "execution_count": null,
      "metadata": {
        "id": "ZwZiHAOKCg9A"
      },
      "outputs": [],
      "source": []
    }
  ]
}